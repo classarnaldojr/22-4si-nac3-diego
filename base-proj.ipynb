{
 "cells": [
  {
   "cell_type": "markdown",
   "metadata": {},
   "source": [
    "# NAC3 - Aprendizado de maquina\n",
    "\n",
    "| Nome dos Integrantes     | RM             | Turma   |\n",
    "| :----------------------- | :------------- | :-----: |\n",
    "| Jesus Ruescas Junior     | 83146          |  4SIS   |\n",
    "| Integrante 2             | RM             |         |\n",
    "\n",
    "\n",
    "## Data de entrega final\n",
    "\n",
    "Será considerado para avaliação e correção o ultimo commit do `** dia 11/09 (domingo) **`\n",
    "\n",
    "`O grupo deve responder ao Google forms` : [https://forms.gle/EEYUkZiWcJ6Xduah6](https://forms.gle/EEYUkZiWcJ6Xduah6)\n",
    "\n",
    "\n",
    "## Rubrica \n",
    "\n",
    "Os critérios de avaliação do projeto será conforme a rubrica.\n",
    "\n",
    "\n",
    "- R1: Exploração de Dados (Até 1 ponto)\n",
    "- R2: Preparação de Dados (Até 2 ponto)\n",
    "- R3: Desenvolvimento do Modelo (Até 1 ponto)\n",
    "- R4: Treinamento e Teste do Modelo (Até 2 ponto)\n",
    "- R5: Validação e Otimização do Modelo (Até 3 ponto)\n",
    "- R6: Conclusões Finais (Até 1 ponto)\n",
    "- R7: Deploy (Até 2 pontos *extra) \n",
    "\n",
    "Nota_final = R1 + R2 + R3 + R4 + R5 + R6 + R7\n",
    "\n",
    "\n",
    "``Siga todas as instruções deste noteboook, mas não limite suas análises apenas ao conteúdo visto em aula.``\n",
    "\n",
    "\n",
    "Nas celulas **Seu Código aqui...** significa que é necessário realizar a implementação de algum código. Utilize quantos blocos julgar necessário para criar o código de resposta.\n",
    "\n",
    "Nas celulas **Responda** significa que é nessário uma resposta clara e objetiva (pode ser por texto, gráfico, imagem...) para a pergunta.\n",
    "\n",
    "**Respeite a rubrica e não responda fora de ordem ou sequência**\n",
    "\n"
   ]
  },
  {
   "cell_type": "markdown",
   "metadata": {},
   "source": [
    "## Análise preditiva de doeça cardíaca em pacientes\n",
    "\n",
    "![](coracao.jpg)\n",
    "\n",
    "\n",
    "\n",
    "Vamos trabalhar com um CONJUNTO DE DADOS DE DOENÇA CARDÍACA afim de ``predizer a presença ou não de doenças do coração em pacientes``.    \n",
    "\n",
    "[dataset: https://ieee-dataport.org/open-access/heart-disease-dataset-comprehensive](https://ieee-dataport.org/open-access/heart-disease-dataset-comprehensive).\n"
   ]
  },
  {
   "cell_type": "markdown",
   "metadata": {},
   "source": [
    "## 1. Exploração de Dados"
   ]
  },
  {
   "cell_type": "markdown",
   "metadata": {},
   "source": [
    "Carregue o dataset e faça uma visualização das primeiras linhas (identificação básica apenas confirmar se a base foi carregada corretamente).\n"
   ]
  },
  {
   "cell_type": "code",
   "execution_count": 241,
   "metadata": {
    "collapsed": true
   },
   "outputs": [],
   "source": [
    "import seaborn as sns\n",
    "import matplotlib.pyplot as plt\n",
    "import pandas as pd\n",
    "import sweetviz as sv\n",
    "import numpy as np\n",
    "import matplotlib.pyplot as plt\n",
    "\n",
    "%matplotlib inline\n"
   ]
  },
  {
   "cell_type": "code",
   "execution_count": 242,
   "metadata": {
    "collapsed": true
   },
   "outputs": [
    {
     "data": {
      "text/html": [
       "<div>\n",
       "<style scoped>\n",
       "    .dataframe tbody tr th:only-of-type {\n",
       "        vertical-align: middle;\n",
       "    }\n",
       "\n",
       "    .dataframe tbody tr th {\n",
       "        vertical-align: top;\n",
       "    }\n",
       "\n",
       "    .dataframe thead th {\n",
       "        text-align: right;\n",
       "    }\n",
       "</style>\n",
       "<table border=\"1\" class=\"dataframe\">\n",
       "  <thead>\n",
       "    <tr style=\"text-align: right;\">\n",
       "      <th></th>\n",
       "      <th>age</th>\n",
       "      <th>sex</th>\n",
       "      <th>chest pain type</th>\n",
       "      <th>resting bp s</th>\n",
       "      <th>cholesterol</th>\n",
       "      <th>fasting blood sugar</th>\n",
       "      <th>resting ecg</th>\n",
       "      <th>max heart rate</th>\n",
       "      <th>exercise angina</th>\n",
       "      <th>oldpeak</th>\n",
       "      <th>ST slope</th>\n",
       "      <th>class</th>\n",
       "    </tr>\n",
       "  </thead>\n",
       "  <tbody>\n",
       "    <tr>\n",
       "      <th>0</th>\n",
       "      <td>40</td>\n",
       "      <td>male</td>\n",
       "      <td>2</td>\n",
       "      <td>140</td>\n",
       "      <td>289</td>\n",
       "      <td>0</td>\n",
       "      <td>0</td>\n",
       "      <td>172</td>\n",
       "      <td>no</td>\n",
       "      <td>0</td>\n",
       "      <td>1</td>\n",
       "      <td>Normal</td>\n",
       "    </tr>\n",
       "    <tr>\n",
       "      <th>1</th>\n",
       "      <td>49</td>\n",
       "      <td>female</td>\n",
       "      <td>3</td>\n",
       "      <td>160</td>\n",
       "      <td>180</td>\n",
       "      <td>0</td>\n",
       "      <td>0</td>\n",
       "      <td>156</td>\n",
       "      <td>no</td>\n",
       "      <td>10</td>\n",
       "      <td>2</td>\n",
       "      <td>heart disease</td>\n",
       "    </tr>\n",
       "    <tr>\n",
       "      <th>2</th>\n",
       "      <td>37</td>\n",
       "      <td>male</td>\n",
       "      <td>2</td>\n",
       "      <td>130</td>\n",
       "      <td>283</td>\n",
       "      <td>0</td>\n",
       "      <td>1</td>\n",
       "      <td>98</td>\n",
       "      <td>no</td>\n",
       "      <td>0</td>\n",
       "      <td>1</td>\n",
       "      <td>Normal</td>\n",
       "    </tr>\n",
       "    <tr>\n",
       "      <th>3</th>\n",
       "      <td>48</td>\n",
       "      <td>female</td>\n",
       "      <td>4</td>\n",
       "      <td>138</td>\n",
       "      <td>214</td>\n",
       "      <td>0</td>\n",
       "      <td>0</td>\n",
       "      <td>108</td>\n",
       "      <td>yes</td>\n",
       "      <td>15</td>\n",
       "      <td>2</td>\n",
       "      <td>heart disease</td>\n",
       "    </tr>\n",
       "    <tr>\n",
       "      <th>4</th>\n",
       "      <td>54</td>\n",
       "      <td>male</td>\n",
       "      <td>3</td>\n",
       "      <td>150</td>\n",
       "      <td>195</td>\n",
       "      <td>0</td>\n",
       "      <td>0</td>\n",
       "      <td>122</td>\n",
       "      <td>no</td>\n",
       "      <td>0</td>\n",
       "      <td>1</td>\n",
       "      <td>Normal</td>\n",
       "    </tr>\n",
       "    <tr>\n",
       "      <th>...</th>\n",
       "      <td>...</td>\n",
       "      <td>...</td>\n",
       "      <td>...</td>\n",
       "      <td>...</td>\n",
       "      <td>...</td>\n",
       "      <td>...</td>\n",
       "      <td>...</td>\n",
       "      <td>...</td>\n",
       "      <td>...</td>\n",
       "      <td>...</td>\n",
       "      <td>...</td>\n",
       "      <td>...</td>\n",
       "    </tr>\n",
       "    <tr>\n",
       "      <th>1185</th>\n",
       "      <td>45</td>\n",
       "      <td>male</td>\n",
       "      <td>1</td>\n",
       "      <td>110</td>\n",
       "      <td>264</td>\n",
       "      <td>0</td>\n",
       "      <td>0</td>\n",
       "      <td>132</td>\n",
       "      <td>no</td>\n",
       "      <td>12</td>\n",
       "      <td>2</td>\n",
       "      <td>heart disease</td>\n",
       "    </tr>\n",
       "    <tr>\n",
       "      <th>1186</th>\n",
       "      <td>68</td>\n",
       "      <td>male</td>\n",
       "      <td>4</td>\n",
       "      <td>144</td>\n",
       "      <td>193</td>\n",
       "      <td>1</td>\n",
       "      <td>0</td>\n",
       "      <td>141</td>\n",
       "      <td>no</td>\n",
       "      <td>34</td>\n",
       "      <td>2</td>\n",
       "      <td>heart disease</td>\n",
       "    </tr>\n",
       "    <tr>\n",
       "      <th>1187</th>\n",
       "      <td>57</td>\n",
       "      <td>male</td>\n",
       "      <td>4</td>\n",
       "      <td>130</td>\n",
       "      <td>131</td>\n",
       "      <td>0</td>\n",
       "      <td>0</td>\n",
       "      <td>115</td>\n",
       "      <td>yes</td>\n",
       "      <td>12</td>\n",
       "      <td>2</td>\n",
       "      <td>heart disease</td>\n",
       "    </tr>\n",
       "    <tr>\n",
       "      <th>1188</th>\n",
       "      <td>57</td>\n",
       "      <td>female</td>\n",
       "      <td>2</td>\n",
       "      <td>130</td>\n",
       "      <td>236</td>\n",
       "      <td>0</td>\n",
       "      <td>2</td>\n",
       "      <td>174</td>\n",
       "      <td>no</td>\n",
       "      <td>0</td>\n",
       "      <td>2</td>\n",
       "      <td>heart disease</td>\n",
       "    </tr>\n",
       "    <tr>\n",
       "      <th>1189</th>\n",
       "      <td>38</td>\n",
       "      <td>male</td>\n",
       "      <td>3</td>\n",
       "      <td>138</td>\n",
       "      <td>175</td>\n",
       "      <td>0</td>\n",
       "      <td>0</td>\n",
       "      <td>173</td>\n",
       "      <td>no</td>\n",
       "      <td>0</td>\n",
       "      <td>1</td>\n",
       "      <td>Normal</td>\n",
       "    </tr>\n",
       "  </tbody>\n",
       "</table>\n",
       "<p>1190 rows × 12 columns</p>\n",
       "</div>"
      ],
      "text/plain": [
       "      age     sex  chest pain type  resting bp s  cholesterol  \\\n",
       "0      40    male                2           140          289   \n",
       "1      49  female                3           160          180   \n",
       "2      37    male                2           130          283   \n",
       "3      48  female                4           138          214   \n",
       "4      54    male                3           150          195   \n",
       "...   ...     ...              ...           ...          ...   \n",
       "1185   45    male                1           110          264   \n",
       "1186   68    male                4           144          193   \n",
       "1187   57    male                4           130          131   \n",
       "1188   57  female                2           130          236   \n",
       "1189   38    male                3           138          175   \n",
       "\n",
       "      fasting blood sugar  resting ecg  max heart rate exercise angina  \\\n",
       "0                       0            0             172              no   \n",
       "1                       0            0             156              no   \n",
       "2                       0            1              98              no   \n",
       "3                       0            0             108             yes   \n",
       "4                       0            0             122              no   \n",
       "...                   ...          ...             ...             ...   \n",
       "1185                    0            0             132              no   \n",
       "1186                    1            0             141              no   \n",
       "1187                    0            0             115             yes   \n",
       "1188                    0            2             174              no   \n",
       "1189                    0            0             173              no   \n",
       "\n",
       "      oldpeak  ST slope          class  \n",
       "0           0         1         Normal  \n",
       "1          10         2  heart disease  \n",
       "2           0         1         Normal  \n",
       "3          15         2  heart disease  \n",
       "4           0         1         Normal  \n",
       "...       ...       ...            ...  \n",
       "1185       12         2  heart disease  \n",
       "1186       34         2  heart disease  \n",
       "1187       12         2  heart disease  \n",
       "1188        0         2  heart disease  \n",
       "1189        0         1         Normal  \n",
       "\n",
       "[1190 rows x 12 columns]"
      ]
     },
     "execution_count": 242,
     "metadata": {},
     "output_type": "execute_result"
    }
   ],
   "source": [
    "dataset = pd.read_csv('heart_dataset.csv')\n",
    "dataset\n"
   ]
  },
  {
   "cell_type": "markdown",
   "metadata": {},
   "source": [
    "**Pergunta:** Apresente (Escreva) uma descrição dos atributos (colunas) e seu significado:\n",
    "\n",
    "Exemplo: \n",
    "\n",
    "- id: Representa o fabricante\n",
    "- fuel_type: tipo de combustível (pode ser Gasolina ou Disel)\n",
    "- price: Representa o valor do carro (**Variável Alvo, atributo que será predito pelo modelo de ML**)"
   ]
  },
  {
   "cell_type": "markdown",
   "metadata": {},
   "source": [
    "**Responda**\n",
    "\n",
    "- age: Repesenta a idade das pessoas cadastradas no dataset.\t\n",
    "\n",
    "- sex: Repesenta o sexo das pessoas cadastradas no dataset.\t\n",
    "\n",
    "- chest pain type: Repesenta o tipo da dor no peito das pessoas cadastradas no dataset.\t\n",
    "\n",
    "- resting bp s: Repesenta a pressão arterial das pessoas cadastradas no dataset.\t\n",
    "\n",
    "- cholesterol: Representa o indice de colesterol das pessoas cadatrasdas no dataset.\t\n",
    "\n",
    "- fasting blood sugar: Representa o indice de açucar no sangue das pessoas cadastradas no dataset em jejum. \t\n",
    "\n",
    "- resting ecg: O ECG de repouso é um teste simples das pessoas cadastradas no dataset.\n",
    "\n",
    "- max heart rate: Representa a frequencia cardíaca máxima das pessoas cadastradas no dataset.\n",
    "\n",
    "- exercise angina: Representa o exericio para melhorar a angina das pessoas cadastradas no dataset.\n",
    "\n",
    "- oldpeak: Representa o registro antigo da frequencia cardíaca máxima das pessoas cadastradas no dataset.\n",
    "\n",
    "- ST slope: A inclinação do segmento ST/frequência cardíaca como preditor de doença arterial coronariana das pessoas cadastradas no dataset.\t\n",
    "\n",
    "- class: Representa o diagnostico médico das pessoas cadastradas no dataset.\n",
    "\n",
    "\n",
    "\n",
    "\n"
   ]
  },
  {
   "cell_type": "markdown",
   "metadata": {},
   "source": [
    "### Análise profunda dos dados\n",
    "\n",
    "Faça uma análise exploratória dos dados. Utilize-se de gráficos e tabelas auxiliares, faça correlações entre os atributos para compreeder a natureza do problema."
   ]
  },
  {
   "cell_type": "code",
   "execution_count": 243,
   "metadata": {
    "collapsed": true
   },
   "outputs": [
    {
     "data": {
      "application/json": {
       "ascii": false,
       "bar_format": "{desc:45}|{bar}| [{percentage:3.0f}%]   {elapsed} -> ({remaining} left)",
       "colour": null,
       "elapsed": 0.021518468856811523,
       "initial": 0,
       "n": 0,
       "ncols": null,
       "nrows": null,
       "postfix": null,
       "prefix": "",
       "rate": null,
       "total": 13,
       "unit": "it",
       "unit_divisor": 1000,
       "unit_scale": false
      },
      "application/vnd.jupyter.widget-view+json": {
       "model_id": "ee0204d013744f869dd36359794a76de",
       "version_major": 2,
       "version_minor": 0
      },
      "text/plain": [
       "                                             |          | [  0%]   00:00 -> (? left)"
      ]
     },
     "metadata": {},
     "output_type": "display_data"
    },
    {
     "name": "stdout",
     "output_type": "stream",
     "text": [
      "Report SWEETVIZ_REPORT.html was generated! NOTEBOOK/COLAB USERS: the web browser MAY not pop up, regardless, the report IS saved in your notebook/colab files.\n",
      "age\n",
      "28     1\n",
      "29     4\n",
      "30     1\n",
      "31     2\n",
      "32     5\n",
      "33     2\n",
      "34     9\n",
      "35    14\n",
      "36     6\n",
      "37    13\n",
      "38    17\n",
      "39    18\n",
      "40    16\n",
      "41    33\n",
      "42    26\n",
      "43    31\n",
      "44    29\n",
      "45    25\n",
      "46    31\n",
      "47    23\n",
      "48    38\n",
      "49    27\n",
      "50    32\n",
      "51    47\n",
      "52    47\n",
      "53    40\n",
      "54    67\n",
      "55    47\n",
      "56    47\n",
      "57    50\n",
      "58    58\n",
      "59    47\n",
      "60    44\n",
      "61    38\n",
      "62    46\n",
      "63    37\n",
      "64    31\n",
      "65    29\n",
      "66    19\n",
      "67    23\n",
      "68    13\n",
      "69    16\n",
      "70    11\n",
      "71     8\n",
      "72     4\n",
      "73     1\n",
      "74     8\n",
      "75     3\n",
      "76     3\n",
      "77     3\n",
      "dtype: int64\n"
     ]
    }
   ],
   "source": [
    "my_report = sv.analyze(dataset).show_html()\n",
    "print(dataset.groupby('age').size())"
   ]
  },
  {
   "cell_type": "markdown",
   "metadata": {},
   "source": [
    "**Perguntas:** \n",
    "\n",
    "1. Qual a relação entre a idade e colesterol?\n",
    "2. O indice açucar no sangue > 120 mg/dl é mais frequênte em homens ou mulheres?\n",
    "3. Qual a distribuição de idade do dataset?\n",
    "4. Pessoas com presença de doença cardiaca são em sua maioria do grupo masculino ou feminino? "
   ]
  },
  {
   "cell_type": "code",
   "execution_count": 244,
   "metadata": {},
   "outputs": [
    {
     "name": "stdout",
     "output_type": "stream",
     "text": [
      "Sugar -  Man: 217 | Female: 37\n",
      "Disease -  Man: 559 | Female: 70\n"
     ]
    },
    {
     "data": {
      "image/png": "[encoded data removed]",
      "text/plain": [
       "<Figure size 500x500 with 1 Axes>"
      ]
     },
     "metadata": {},
     "output_type": "display_data"
    }
   ],
   "source": [
    "from sklearn.preprocessing import LabelEncoder\n",
    "labelencoder = LabelEncoder()\n",
    "#1. Não existe relação entre as categorias, apenas uma relação numeral de -0.05, ese gráfico pode ser analisado no sweetviz que geramos anteriormente.\n",
    "\n",
    "#2. Homems\n",
    "dataset['sex'] = labelencoder.fit_transform(dataset['sex'])\n",
    "colum = dataset[['sex', 'fasting blood sugar']]\n",
    "columCut = colum.rename(columns={'fasting blood sugar': 'sugar'})\n",
    "Man = columCut[(columCut.sex == 1) & (columCut.sugar == 1)].count().sex\n",
    "Female = columCut[(columCut.sex == 0) & (columCut.sugar == 1)].count().sex\n",
    "print('Sugar -  Man: ' + str(Man)+ ' | Female: ' +str(Female))\n",
    "\n",
    "# 3. De 28 á 77 anos segundo o sweetviz, mas para tirarmos a prova viva segue o código abaixo:\n",
    "dataset.hist(column='age', grid=False, figsize=(5,5), rwidth=0.5)\n",
    "\n",
    "#4. Masculino\n",
    "colum1 = dataset[['class', 'sex']]\n",
    "columCut1 = colum1.rename(columns={'class': 'disease'})\n",
    "Man1 = columCut1[(columCut1.sex == 1) & (columCut1.disease == 'heart disease')].count().sex\n",
    "Female1 = columCut1[(columCut1.sex == 0) & (columCut1.disease == 'heart disease')].count().sex\n",
    "\n",
    "print('Disease -  Man: ' + str(Man1)+ ' | Female: ' +str(Female1))\n",
    "\n"
   ]
  },
  {
   "cell_type": "markdown",
   "metadata": {},
   "source": [
    "## 2. Preparação dos Dados\n",
    "\n",
    "**Lembre-se:** Trate esses dados dentro do contexto do problema. ``Justifique suas escolhas``."
   ]
  },
  {
   "cell_type": "markdown",
   "metadata": {},
   "source": [
    "### Análise de valores inválidos\n",
    "\n",
    "Faça a análise de dados ausente, dados nulos e dados iguais a 0(zero)."
   ]
  },
  {
   "cell_type": "code",
   "execution_count": 245,
   "metadata": {
    "collapsed": true
   },
   "outputs": [
    {
     "name": "stdout",
     "output_type": "stream",
     "text": [
      "<class 'pandas.core.frame.DataFrame'>\n",
      "RangeIndex: 1190 entries, 0 to 1189\n",
      "Data columns (total 12 columns):\n",
      " #   Column               Non-Null Count  Dtype \n",
      "---  ------               --------------  ----- \n",
      " 0   age                  1190 non-null   int64 \n",
      " 1   sex                  1190 non-null   int32 \n",
      " 2   chest pain type      1190 non-null   int64 \n",
      " 3   resting bp s         1190 non-null   int64 \n",
      " 4   cholesterol          1190 non-null   int64 \n",
      " 5   fasting blood sugar  1190 non-null   int64 \n",
      " 6   resting ecg          1190 non-null   int64 \n",
      " 7   max heart rate       1190 non-null   int64 \n",
      " 8   exercise angina      1190 non-null   object\n",
      " 9   oldpeak              1190 non-null   int64 \n",
      " 10  ST slope             1190 non-null   int64 \n",
      " 11  class                1190 non-null   object\n",
      "dtypes: int32(1), int64(9), object(2)\n",
      "memory usage: 107.0+ KB\n"
     ]
    }
   ],
   "source": [
    "dataset.dropna() #Dropei valores NaN\n",
    "dataset.duplicated() #Eliminei valores duplicados\n",
    "dataset.isnull().sum().sort_values(ascending=False) #Verifiquei se há valores nulos\n",
    "dataset.info() #Verifiquei o tipo de dados"
   ]
  },
  {
   "cell_type": "markdown",
   "metadata": {},
   "source": [
    "**Pergunta:** Foram localizados dados ausente, dados nulos e dados iguais a 0(zero)? Se existe, como foram tratados (removidos ou mantidos ou substituidos ou ....)? "
   ]
  },
  {
   "cell_type": "markdown",
   "metadata": {},
   "source": [
    "**Resposta:**\n",
    "\n",
    "Não foi encontrado dados ausentes, nulos ou duplicados, para ter a certeza apliquei uma limpeza utilizando o seguinte trecho de código:\n",
    "dataset.dropna() #Dropei valores NaN\n",
    "dataset.duplicated() #Eliminei valores duplicados\n",
    "dataset.isnull().sum().sort_values(ascending=False) #Verifiquei se há valores nulos\n",
    "dataset.info() #Verifiquei o tipo de dados"
   ]
  },
  {
   "cell_type": "markdown",
   "metadata": {},
   "source": [
    "### Análise de Outliers\n",
    "\n",
    "Faça a análise de outliers."
   ]
  },
  {
   "cell_type": "code",
   "execution_count": 246,
   "metadata": {},
   "outputs": [
    {
     "data": {
      "image/png": "[encoded data removed]",
      "text/plain": [
       "<Figure size 1000x1000 with 25 Axes>"
      ]
     },
     "metadata": {},
     "output_type": "display_data"
    }
   ],
   "source": [
    "dataset = dataset.loc[~((dataset['cholesterol'] > 500) | (dataset['resting bp s'] == 0)| (dataset['max heart rate'] == 0) | (dataset['max heart rate'] > 221) |(dataset['oldpeak'] >47))]\n",
    "datasetout = dataset[['cholesterol','resting bp s','max heart rate', 'oldpeak']]    \n",
    "datasetout.plot(kind='box', subplots=True, layout=(5,5), figsize=(10, 10)) \n",
    "plt.show()"
   ]
  },
  {
   "cell_type": "markdown",
   "metadata": {},
   "source": [
    "**Pergunta:** Foram localizados outliers? Se existe, como os dados foram tratados (removidos ou mantidos)? "
   ]
  },
  {
   "cell_type": "markdown",
   "metadata": {},
   "source": [
    "Sim foram localizados outliners, foi estipulado um limite especificado para cada coluna, os outliers foram removidos/ocultados."
   ]
  },
  {
   "cell_type": "markdown",
   "metadata": {},
   "source": [
    "### Tratamento de dados Paramétricos\n",
    "\n",
    "Faça o tratamento dos atributos categoricos, se existir. Manipule de forma conveniente para ser interpretado como um dado numérico."
   ]
  },
  {
   "cell_type": "code",
   "execution_count": 231,
   "metadata": {
    "collapsed": true
   },
   "outputs": [
    {
     "data": {
      "text/html": [
       "<div>\n",
       "<style scoped>\n",
       "    .dataframe tbody tr th:only-of-type {\n",
       "        vertical-align: middle;\n",
       "    }\n",
       "\n",
       "    .dataframe tbody tr th {\n",
       "        vertical-align: top;\n",
       "    }\n",
       "\n",
       "    .dataframe thead th {\n",
       "        text-align: right;\n",
       "    }\n",
       "</style>\n",
       "<table border=\"1\" class=\"dataframe\">\n",
       "  <thead>\n",
       "    <tr style=\"text-align: right;\">\n",
       "      <th></th>\n",
       "      <th>age</th>\n",
       "      <th>sex</th>\n",
       "      <th>chest pain type</th>\n",
       "      <th>resting bp s</th>\n",
       "      <th>cholesterol</th>\n",
       "      <th>fasting blood sugar</th>\n",
       "      <th>resting ecg</th>\n",
       "      <th>max heart rate</th>\n",
       "      <th>exercise angina</th>\n",
       "      <th>oldpeak</th>\n",
       "      <th>ST slope</th>\n",
       "      <th>class</th>\n",
       "      <th>class_Normal</th>\n",
       "      <th>class_heart disease</th>\n",
       "    </tr>\n",
       "  </thead>\n",
       "  <tbody>\n",
       "    <tr>\n",
       "      <th>0</th>\n",
       "      <td>40</td>\n",
       "      <td>male</td>\n",
       "      <td>2</td>\n",
       "      <td>140</td>\n",
       "      <td>289</td>\n",
       "      <td>0</td>\n",
       "      <td>0</td>\n",
       "      <td>172</td>\n",
       "      <td>no</td>\n",
       "      <td>0</td>\n",
       "      <td>1</td>\n",
       "      <td>Normal</td>\n",
       "      <td>1</td>\n",
       "      <td>0</td>\n",
       "    </tr>\n",
       "    <tr>\n",
       "      <th>1</th>\n",
       "      <td>49</td>\n",
       "      <td>female</td>\n",
       "      <td>3</td>\n",
       "      <td>160</td>\n",
       "      <td>180</td>\n",
       "      <td>0</td>\n",
       "      <td>0</td>\n",
       "      <td>156</td>\n",
       "      <td>no</td>\n",
       "      <td>10</td>\n",
       "      <td>2</td>\n",
       "      <td>heart disease</td>\n",
       "      <td>0</td>\n",
       "      <td>1</td>\n",
       "    </tr>\n",
       "    <tr>\n",
       "      <th>2</th>\n",
       "      <td>37</td>\n",
       "      <td>male</td>\n",
       "      <td>2</td>\n",
       "      <td>130</td>\n",
       "      <td>283</td>\n",
       "      <td>0</td>\n",
       "      <td>1</td>\n",
       "      <td>98</td>\n",
       "      <td>no</td>\n",
       "      <td>0</td>\n",
       "      <td>1</td>\n",
       "      <td>Normal</td>\n",
       "      <td>1</td>\n",
       "      <td>0</td>\n",
       "    </tr>\n",
       "    <tr>\n",
       "      <th>3</th>\n",
       "      <td>48</td>\n",
       "      <td>female</td>\n",
       "      <td>4</td>\n",
       "      <td>138</td>\n",
       "      <td>214</td>\n",
       "      <td>0</td>\n",
       "      <td>0</td>\n",
       "      <td>108</td>\n",
       "      <td>yes</td>\n",
       "      <td>15</td>\n",
       "      <td>2</td>\n",
       "      <td>heart disease</td>\n",
       "      <td>0</td>\n",
       "      <td>1</td>\n",
       "    </tr>\n",
       "    <tr>\n",
       "      <th>4</th>\n",
       "      <td>54</td>\n",
       "      <td>male</td>\n",
       "      <td>3</td>\n",
       "      <td>150</td>\n",
       "      <td>195</td>\n",
       "      <td>0</td>\n",
       "      <td>0</td>\n",
       "      <td>122</td>\n",
       "      <td>no</td>\n",
       "      <td>0</td>\n",
       "      <td>1</td>\n",
       "      <td>Normal</td>\n",
       "      <td>1</td>\n",
       "      <td>0</td>\n",
       "    </tr>\n",
       "    <tr>\n",
       "      <th>...</th>\n",
       "      <td>...</td>\n",
       "      <td>...</td>\n",
       "      <td>...</td>\n",
       "      <td>...</td>\n",
       "      <td>...</td>\n",
       "      <td>...</td>\n",
       "      <td>...</td>\n",
       "      <td>...</td>\n",
       "      <td>...</td>\n",
       "      <td>...</td>\n",
       "      <td>...</td>\n",
       "      <td>...</td>\n",
       "      <td>...</td>\n",
       "      <td>...</td>\n",
       "    </tr>\n",
       "    <tr>\n",
       "      <th>1185</th>\n",
       "      <td>45</td>\n",
       "      <td>male</td>\n",
       "      <td>1</td>\n",
       "      <td>110</td>\n",
       "      <td>264</td>\n",
       "      <td>0</td>\n",
       "      <td>0</td>\n",
       "      <td>132</td>\n",
       "      <td>no</td>\n",
       "      <td>12</td>\n",
       "      <td>2</td>\n",
       "      <td>heart disease</td>\n",
       "      <td>0</td>\n",
       "      <td>1</td>\n",
       "    </tr>\n",
       "    <tr>\n",
       "      <th>1186</th>\n",
       "      <td>68</td>\n",
       "      <td>male</td>\n",
       "      <td>4</td>\n",
       "      <td>144</td>\n",
       "      <td>193</td>\n",
       "      <td>1</td>\n",
       "      <td>0</td>\n",
       "      <td>141</td>\n",
       "      <td>no</td>\n",
       "      <td>34</td>\n",
       "      <td>2</td>\n",
       "      <td>heart disease</td>\n",
       "      <td>0</td>\n",
       "      <td>1</td>\n",
       "    </tr>\n",
       "    <tr>\n",
       "      <th>1187</th>\n",
       "      <td>57</td>\n",
       "      <td>male</td>\n",
       "      <td>4</td>\n",
       "      <td>130</td>\n",
       "      <td>131</td>\n",
       "      <td>0</td>\n",
       "      <td>0</td>\n",
       "      <td>115</td>\n",
       "      <td>yes</td>\n",
       "      <td>12</td>\n",
       "      <td>2</td>\n",
       "      <td>heart disease</td>\n",
       "      <td>0</td>\n",
       "      <td>1</td>\n",
       "    </tr>\n",
       "    <tr>\n",
       "      <th>1188</th>\n",
       "      <td>57</td>\n",
       "      <td>female</td>\n",
       "      <td>2</td>\n",
       "      <td>130</td>\n",
       "      <td>236</td>\n",
       "      <td>0</td>\n",
       "      <td>2</td>\n",
       "      <td>174</td>\n",
       "      <td>no</td>\n",
       "      <td>0</td>\n",
       "      <td>2</td>\n",
       "      <td>heart disease</td>\n",
       "      <td>0</td>\n",
       "      <td>1</td>\n",
       "    </tr>\n",
       "    <tr>\n",
       "      <th>1189</th>\n",
       "      <td>38</td>\n",
       "      <td>male</td>\n",
       "      <td>3</td>\n",
       "      <td>138</td>\n",
       "      <td>175</td>\n",
       "      <td>0</td>\n",
       "      <td>0</td>\n",
       "      <td>173</td>\n",
       "      <td>no</td>\n",
       "      <td>0</td>\n",
       "      <td>1</td>\n",
       "      <td>Normal</td>\n",
       "      <td>1</td>\n",
       "      <td>0</td>\n",
       "    </tr>\n",
       "  </tbody>\n",
       "</table>\n",
       "<p>1168 rows × 14 columns</p>\n",
       "</div>"
      ],
      "text/plain": [
       "      age     sex  chest pain type  resting bp s  cholesterol  \\\n",
       "0      40    male                2           140          289   \n",
       "1      49  female                3           160          180   \n",
       "2      37    male                2           130          283   \n",
       "3      48  female                4           138          214   \n",
       "4      54    male                3           150          195   \n",
       "...   ...     ...              ...           ...          ...   \n",
       "1185   45    male                1           110          264   \n",
       "1186   68    male                4           144          193   \n",
       "1187   57    male                4           130          131   \n",
       "1188   57  female                2           130          236   \n",
       "1189   38    male                3           138          175   \n",
       "\n",
       "      fasting blood sugar  resting ecg  max heart rate exercise angina  \\\n",
       "0                       0            0             172              no   \n",
       "1                       0            0             156              no   \n",
       "2                       0            1              98              no   \n",
       "3                       0            0             108             yes   \n",
       "4                       0            0             122              no   \n",
       "...                   ...          ...             ...             ...   \n",
       "1185                    0            0             132              no   \n",
       "1186                    1            0             141              no   \n",
       "1187                    0            0             115             yes   \n",
       "1188                    0            2             174              no   \n",
       "1189                    0            0             173              no   \n",
       "\n",
       "      oldpeak  ST slope          class  class_Normal  class_heart disease  \n",
       "0           0         1         Normal             1                    0  \n",
       "1          10         2  heart disease             0                    1  \n",
       "2           0         1         Normal             1                    0  \n",
       "3          15         2  heart disease             0                    1  \n",
       "4           0         1         Normal             1                    0  \n",
       "...       ...       ...            ...           ...                  ...  \n",
       "1185       12         2  heart disease             0                    1  \n",
       "1186       34         2  heart disease             0                    1  \n",
       "1187       12         2  heart disease             0                    1  \n",
       "1188        0         2  heart disease             0                    1  \n",
       "1189        0         1         Normal             1                    0  \n",
       "\n",
       "[1168 rows x 14 columns]"
      ]
     },
     "metadata": {},
     "output_type": "display_data"
    }
   ],
   "source": [
    "from json import encoder\n",
    "from sklearn.preprocessing import LabelEncoder\n",
    "encoder = LabelEncoder()\n",
    "\n",
    "datasetClass =  pd.get_dummies(dataset['class'], prefix='class')\n",
    "datasetSintoma = pd.concat([dataset, datasetClass], axis=1)\n",
    "display(datasetSintoma)\n"
   ]
  },
  {
   "cell_type": "markdown",
   "metadata": {},
   "source": [
    "**Pergunta:** Quais são os atributos categoricos? Qual foi a técnica de preprocessamento utilizada? "
   ]
  },
  {
   "cell_type": "markdown",
   "metadata": {},
   "source": [
    "Os atributos categoricos foram encontrados na coluna class, onde alternava entre nornmal e heart disease, utilizei a tecnica do Pandas DUMMIES, fiz o o tratamento dos atributos categoricos"
   ]
  },
  {
   "cell_type": "markdown",
   "metadata": {},
   "source": [
    "### Normalização dos dados\n",
    "\n",
    "Faça a manipulação adequada para normalizar os dados, se necessário."
   ]
  },
  {
   "cell_type": "code",
   "execution_count": 253,
   "metadata": {
    "collapsed": true
   },
   "outputs": [
    {
     "name": "stderr",
     "output_type": "stream",
     "text": [
      "C:\\Users\\unh-c\\AppData\\Local\\Temp\\ipykernel_18644\\4210196947.py:5: SettingWithCopyWarning: \n",
      "A value is trying to be set on a copy of a slice from a DataFrame.\n",
      "Try using .loc[row_indexer,col_indexer] = value instead\n",
      "\n",
      "See the caveats in the documentation: https://pandas.pydata.org/pandas-docs/stable/user_guide/indexing.html#returning-a-view-versus-a-copy\n",
      "  dataset['sex'] = labelencoder.fit_transform(dataset['sex'])\n",
      "C:\\Users\\unh-c\\AppData\\Local\\Temp\\ipykernel_18644\\4210196947.py:6: SettingWithCopyWarning: \n",
      "A value is trying to be set on a copy of a slice from a DataFrame.\n",
      "Try using .loc[row_indexer,col_indexer] = value instead\n",
      "\n",
      "See the caveats in the documentation: https://pandas.pydata.org/pandas-docs/stable/user_guide/indexing.html#returning-a-view-versus-a-copy\n",
      "  dataset['exercise angina'] = labelencoder.fit_transform(dataset['exercise angina'])\n",
      "C:\\Users\\unh-c\\AppData\\Local\\Temp\\ipykernel_18644\\4210196947.py:7: SettingWithCopyWarning: \n",
      "A value is trying to be set on a copy of a slice from a DataFrame.\n",
      "Try using .loc[row_indexer,col_indexer] = value instead\n",
      "\n",
      "See the caveats in the documentation: https://pandas.pydata.org/pandas-docs/stable/user_guide/indexing.html#returning-a-view-versus-a-copy\n",
      "  dataset['fasting blood sugar'] = labelencoder.fit_transform(dataset['fasting blood sugar'])\n"
     ]
    }
   ],
   "source": [
    "from matplotlib import pyplot as plt\n",
    "from sklearn.preprocessing import LabelEncoder\n",
    "encoder = LabelEncoder()\n",
    "\n",
    "dataset['sex'] = labelencoder.fit_transform(dataset['sex'])\n",
    "dataset['exercise angina'] = labelencoder.fit_transform(dataset['exercise angina'])\n",
    "dataset['fasting blood sugar'] = labelencoder.fit_transform(dataset['fasting blood sugar'])\n"
   ]
  },
  {
   "cell_type": "markdown",
   "metadata": {},
   "source": [
    "**Pergunta:** Os dados foram normalizados? Qual foi a técnica de preprocessamento utilizada? "
   ]
  },
  {
   "cell_type": "markdown",
   "metadata": {},
   "source": [
    "**Resposta:**\n",
    "\n",
    "Sim foram normalizados, utilizei a ténica de fit transform com Label encoder"
   ]
  },
  {
   "cell_type": "markdown",
   "metadata": {},
   "source": [
    "## 3. Desenvolvimento do Modelo"
   ]
  },
  {
   "cell_type": "markdown",
   "metadata": {},
   "source": [
    "**Pergunta:** O conjunto de dados indica a aplicação de qual modelo de aprendizagem de maquina? "
   ]
  },
  {
   "cell_type": "markdown",
   "metadata": {},
   "source": [
    "**Resposta:**\n",
    "\n",
    "    [ ] Aprendizado por reforço\n",
    "    [x] Aprendizado supervisionado\n",
    "    [ ] Aprendizado não supervisionado"
   ]
  },
  {
   "cell_type": "markdown",
   "metadata": {},
   "source": [
    "**Pergunta:** Qual a técnica sugerida para este projeto?"
   ]
  },
  {
   "cell_type": "markdown",
   "metadata": {},
   "source": [
    "**Resposta:**\n",
    "\n",
    "    [x] Regressão\n",
    "    [ ] Classificação\n",
    "    [ ] Clusterização"
   ]
  },
  {
   "cell_type": "markdown",
   "metadata": {},
   "source": [
    "**Pergunta:** Escolha 3 modelos de algoritmos de ML para ser testado."
   ]
  },
  {
   "cell_type": "markdown",
   "metadata": {},
   "source": [
    "**Resposta:**\n",
    "\n",
    "1. algoritimo Naive Bayes\n",
    "2. algoritimo KNN\n",
    "3. algoritimo Logistic regression\n"
   ]
  },
  {
   "cell_type": "markdown",
   "metadata": {},
   "source": [
    "**Pergunta:** Explique como cada algoritmo funciona.\n",
    "\n"
   ]
  },
  {
   "cell_type": "markdown",
   "metadata": {},
   "source": [
    "**Resposta:**\n",
    "\n",
    "1. O algoritmo Naive Bayes funciona como classificador e baseia-se na probabilidade de cada evento ocorrer, desconsiderando a correlação entre features.\n",
    "2. O algoritmo KNN tenta classificar cada amostra de um conjunto de dados avaliando sua distância em relação aos vizinhos mais próximos. Se os vizinhos mais próximos forem majoritariamente de uma classe, a amostra em questão será classificada nesta categoria.\n",
    "3. O algoritimo Logistic regression consiste em analisar cada classe de forma separada contra todas as outras, criando um classificador para cada possibilidade, dessa forma se calcula a probabilidade de uma dada instância pertencer a classe em questão ou não"
   ]
  },
  {
   "cell_type": "markdown",
   "metadata": {},
   "source": [
    "### Dataset dos dados tratados \n",
    "\n",
    "Crie um subset dos dados apenas com os atributos que serão utilizados e exiba as primeiras linhas."
   ]
  },
  {
   "cell_type": "code",
   "execution_count": null,
   "metadata": {
    "collapsed": true
   },
   "outputs": [
    {
     "data": {
      "text/html": [
       "<div>\n",
       "<style scoped>\n",
       "    .dataframe tbody tr th:only-of-type {\n",
       "        vertical-align: middle;\n",
       "    }\n",
       "\n",
       "    .dataframe tbody tr th {\n",
       "        vertical-align: top;\n",
       "    }\n",
       "\n",
       "    .dataframe thead th {\n",
       "        text-align: right;\n",
       "    }\n",
       "</style>\n",
       "<table border=\"1\" class=\"dataframe\">\n",
       "  <thead>\n",
       "    <tr style=\"text-align: right;\">\n",
       "      <th></th>\n",
       "      <th>cholesterol</th>\n",
       "      <th>age</th>\n",
       "    </tr>\n",
       "  </thead>\n",
       "  <tbody>\n",
       "    <tr>\n",
       "      <th>0</th>\n",
       "      <td>289</td>\n",
       "      <td>40</td>\n",
       "    </tr>\n",
       "    <tr>\n",
       "      <th>1</th>\n",
       "      <td>180</td>\n",
       "      <td>49</td>\n",
       "    </tr>\n",
       "    <tr>\n",
       "      <th>2</th>\n",
       "      <td>283</td>\n",
       "      <td>37</td>\n",
       "    </tr>\n",
       "    <tr>\n",
       "      <th>3</th>\n",
       "      <td>214</td>\n",
       "      <td>48</td>\n",
       "    </tr>\n",
       "    <tr>\n",
       "      <th>4</th>\n",
       "      <td>195</td>\n",
       "      <td>54</td>\n",
       "    </tr>\n",
       "  </tbody>\n",
       "</table>\n",
       "</div>"
      ],
      "text/plain": [
       "   cholesterol  age\n",
       "0          289   40\n",
       "1          180   49\n",
       "2          283   37\n",
       "3          214   48\n",
       "4          195   54"
      ]
     },
     "execution_count": 175,
     "metadata": {},
     "output_type": "execute_result"
    }
   ],
   "source": [
    "inputs = dataset[['cholesterol', 'age',]]\n",
    "classT = dataset['class']\n",
    "\n",
    "inputs.head()\n"
   ]
  },
  {
   "cell_type": "markdown",
   "metadata": {},
   "source": [
    "### Definição de X e Y\n",
    "\n",
    "Separe os subsets dos atributos em Y e X :\n",
    "\n",
    "- Y = atributo dependente (alvo)\n",
    "- X = Atributo independente (entradas)"
   ]
  },
  {
   "cell_type": "code",
   "execution_count": null,
   "metadata": {
    "collapsed": true
   },
   "outputs": [
    {
     "name": "stdout",
     "output_type": "stream",
     "text": [
      "X: (1168, 1) | Y: (1168,)\n"
     ]
    }
   ],
   "source": [
    "X = dataset[['cholesterol']]\n",
    "Y = dataset['age']\n",
    "datasetX = X.shape\n",
    "datasetY = Y.shape\n",
    "print('X: '+str(datasetX)+ ' | Y: ' + str(datasetY))\n"
   ]
  },
  {
   "cell_type": "markdown",
   "metadata": {},
   "source": [
    "### Divisão em treino e teste.\n",
    "\n",
    "Faça o split do dados para treinamento e teste"
   ]
  },
  {
   "cell_type": "code",
   "execution_count": null,
   "metadata": {
    "collapsed": true
   },
   "outputs": [
    {
     "name": "stdout",
     "output_type": "stream",
     "text": [
      "Train\n",
      "      cholesterol  age\n",
      "452             0   64\n",
      "188           237   41\n",
      "1159          311   46\n",
      "728           235   41\n",
      "1097          215   37\n",
      "...           ...  ...\n",
      "93            329   48\n",
      "1147          242   44\n",
      "66            297   45\n",
      "905           275   48\n",
      "696           236   56\n",
      "\n",
      "[934 rows x 2 columns]\n",
      "\n",
      "Test\n",
      "      cholesterol  age\n",
      "999           186   52\n",
      "713           302   66\n",
      "1141          303   43\n",
      "993           177   59\n",
      "276           213   59\n",
      "...           ...  ...\n",
      "862           253   60\n",
      "284           344   55\n",
      "703           208   62\n",
      "1140          295   51\n",
      "145           273   39\n",
      "\n",
      "[234 rows x 2 columns]\n"
     ]
    }
   ],
   "source": [
    "from sklearn.model_selection import train_test_split\n",
    "\n",
    "inputTrain, inputTest, classTrain, classTest = train_test_split(inputs, classT, test_size=0.2)\n",
    "\n",
    "print('Train')\n",
    "print(str(inputTrain))\n",
    "print('')\n",
    "print('Test')\n",
    "print(str(inputTest))"
   ]
  },
  {
   "cell_type": "markdown",
   "metadata": {},
   "source": [
    "## 4. Treinamento e teste do modelo\n",
    "\n",
    "Defina a métrica de performance para avaliação dos modelos de ML"
   ]
  },
  {
   "cell_type": "markdown",
   "metadata": {},
   "source": [
    "**Resposta:**\n",
    "\n",
    "80% de acuracia."
   ]
  },
  {
   "cell_type": "markdown",
   "metadata": {},
   "source": [
    "### Treinamento e teste\n",
    "\n",
    "Faça o treinamento e teste de dos 3 algoritmos escolhidos, aplique no treinamento a validação cruzada para um kfold de 5."
   ]
  },
  {
   "cell_type": "markdown",
   "metadata": {},
   "source": [
    "### Algoritmo 1"
   ]
  },
  {
   "cell_type": "code",
   "execution_count": null,
   "metadata": {
    "collapsed": true
   },
   "outputs": [
    {
     "data": {
      "text/plain": [
       "0.5770877944325482"
      ]
     },
     "execution_count": 201,
     "metadata": {},
     "output_type": "execute_result"
    }
   ],
   "source": [
    "from sklearn.naive_bayes import BernoulliNB\n",
    "from sklearn import metrics\n",
    "\n",
    "clas = BernoulliNB()\n",
    "clas.fit(inputTest, classTest)\n",
    "\n",
    "y_pred = clas.predict(inputTrain)\n",
    "metrics.accuracy_score(classTrain, y_pred)\n",
    "\n",
    "clas = BernoulliNB()\n",
    "clas.fit(inputTrain, classTrain)\n",
    "\n",
    "y_pred = clas.predict(inputTest)\n",
    "metrics.accuracy_score(classTest, y_pred)\n"
   ]
  },
  {
   "cell_type": "markdown",
   "metadata": {},
   "source": [
    "### Algoritmo 2"
   ]
  },
  {
   "cell_type": "code",
   "execution_count": null,
   "metadata": {
    "collapsed": true
   },
   "outputs": [
    {
     "name": "stdout",
     "output_type": "stream",
     "text": [
      "Accuracy:  0.6274089935760171\n"
     ]
    }
   ],
   "source": [
    "from sklearn import metrics\n",
    "from sklearn.neighbors import KNeighborsClassifier\n",
    "from sklearn.metrics import accuracy_score\n",
    "\n",
    "knn = KNeighborsClassifier(n_neighbors=5)\n",
    "knn.fit(inputTest, classTest)\n",
    "y_pred = knn.predict(inputTrain)\n",
    "print('Accuracy: ', metrics.accuracy_score(classTrain, y_pred))\n",
    "\n",
    "\n",
    "knn = KNeighborsClassifier(n_neighbors=5)\n",
    "knn.fit(inputTrain, classTrain)\n",
    "y_pred = knn.predict(inputTest)\n",
    "print('Accuracy: ', metrics.accuracy_score(classTest, y_pred))\n"
   ]
  },
  {
   "cell_type": "markdown",
   "metadata": {},
   "source": [
    "### Algoritmo 3"
   ]
  },
  {
   "cell_type": "code",
   "execution_count": null,
   "metadata": {
    "collapsed": true
   },
   "outputs": [
    {
     "data": {
      "text/plain": [
       "0.6623931623931624"
      ]
     },
     "execution_count": 198,
     "metadata": {},
     "output_type": "execute_result"
    }
   ],
   "source": [
    "from sklearn.neighbors import KNeighborsClassifier\n",
    "from sklearn.linear_model import LogisticRegression\n",
    "\n",
    "\n",
    "lg = LogisticRegression(solver='liblinear', random_state=0)\n",
    "lg.fit(inputTest, classTest)\n",
    "y_pred = lg.predict(inputTrain)\n",
    "metrics.accuracy_score(classTrain, y_pred)\n",
    "\n",
    "lg = LogisticRegression(solver='liblinear', random_state=0)\n",
    "lg.fit(inputTrain, classTrain)\n",
    "y_pred = lg.predict(inputTest)\n",
    "metrics.accuracy_score(classTest, y_pred)\n",
    "\n"
   ]
  },
  {
   "cell_type": "markdown",
   "metadata": {},
   "source": [
    "Sumarize na tabela abaixo os resultados obtidos dos modelos de ML para o conjuntos de dados de treino e de testes"
   ]
  },
  {
   "cell_type": "markdown",
   "metadata": {},
   "source": [
    "**Resposta:**\n",
    "\n",
    "|                     | algoritmo1 | algoritmo2 | algoritmo3 |\n",
    "|:---------------------|:------------------:|:-----------------------------:|:-----------------:|\n",
    "| treino |      0.5770877944325482           |      0.6274089935760171                      |   0.6188436830835118              |\n",
    "| teste  |      0.6153846153846154            |      0.7051282051282052                       |   0.6623931623931624              |\n"
   ]
  },
  {
   "cell_type": "markdown",
   "metadata": {},
   "source": [
    "**Pergunta:** Qual foi a performance de cada algoritmo? Explique os resultados e detalhe como a característica de cada algoritmo influenciou no resultado.\n",
    "\n",
    "**Resposta**\n",
    "A peformace foi boa mas foi estipulado uma margem de erro de 0.2 aproximadamente.\n",
    "- No algoritmo 1 utilizamos o BernoulliNB com predict e metrics accuracy.\n",
    "- No algoritmo 2 utilizamos o KNeighborsClassifier com knn accuracy.\n",
    "- No algoritmo 3 utilizamos o LogisticRegression com predict e metrics accuracy.\n"
   ]
  },
  {
   "cell_type": "markdown",
   "metadata": {},
   "source": [
    "## 5. Validação e Otimização do Modelo\n",
    "\n",
    "Faça a otimização dos modelos, tunning dos hiperparametros, utilize uma das técinicas: **RandomSearchCV** ou **GridSearchCV**.\n",
    "\n",
    "\n",
    "Após a otimização dos parametros, treine novamente os 3 algoritmos de ML  utilizando os parametos de otimização e compares seus resultados.\n"
   ]
  },
  {
   "cell_type": "markdown",
   "metadata": {},
   "source": [
    "**Pergunta:** Qual a técnica escolhida? Por que?\n",
    "\n",
    "**Resposta**\n",
    "\n",
    "A Tecnica escolhida foi o GridSearchCV.\n",
    "\n",
    "Escolhi o GridSearchCV pois foi o que mais encontrei suporte na internet, com ele pude me basear em algoritmos jã existentes.\n"
   ]
  },
  {
   "cell_type": "code",
   "execution_count": 202,
   "metadata": {},
   "outputs": [
    {
     "name": "stdout",
     "output_type": "stream",
     "text": [
      "Fitting 5 folds for each of 8 candidates, totalling 40 fits\n",
      "{'C': 1, 'gamma': 'scale', 'kernel': 'linear'}\n",
      "               precision    recall  f1-score   support\n",
      "\n",
      "       Normal       0.64      0.64      0.64       110\n",
      "heart disease       0.68      0.69      0.68       124\n",
      "\n",
      "     accuracy                           0.66       234\n",
      "    macro avg       0.66      0.66      0.66       234\n",
      " weighted avg       0.66      0.66      0.66       234\n",
      "\n"
     ]
    }
   ],
   "source": [
    "#Algoritmo 1\n",
    "import sklearn\n",
    "from sklearn.metrics import classification_report \n",
    "from sklearn.svm import SVC \n",
    "from sklearn.model_selection import GridSearchCV\n",
    "\n",
    "param_grid = {'C': [0.1, 1, 10, 100],  \n",
    "              'gamma': [1, 0.1, 0.01, 0.001, 0.0001], \n",
    "              'gamma':['scale', 'auto'],\n",
    "              'kernel': ['linear']}  \n",
    "   \n",
    "grid = GridSearchCV(SVC(), param_grid, refit = True, verbose = 3,n_jobs=-1) \n",
    "grid.fit(inputTrain, classTrain) \n",
    "print(grid.best_params_) \n",
    "grid_predictions = grid.predict(inputTest) \n",
    "print(classification_report(classTest, grid_predictions)) "
   ]
  },
  {
   "cell_type": "code",
   "execution_count": 209,
   "metadata": {
    "collapsed": true
   },
   "outputs": [
    {
     "name": "stdout",
     "output_type": "stream",
     "text": [
      "Fitting 5 folds for each of 8 candidates, totalling 40 fits\n",
      "{'C': 0.1, 'gamma': 'scale', 'kernel': 'linear'}\n",
      "               precision    recall  f1-score   support\n",
      "\n",
      "       Normal       0.62      0.66      0.64       436\n",
      "heart disease       0.68      0.64      0.66       498\n",
      "\n",
      "     accuracy                           0.65       934\n",
      "    macro avg       0.65      0.65      0.65       934\n",
      " weighted avg       0.65      0.65      0.65       934\n",
      "\n"
     ]
    }
   ],
   "source": [
    "#Algoritmo 2\n",
    "param_grid = {'C': [0.1, 1, 10, 100],  \n",
    "              'gamma': [1, 0.1, 0.01, 0.001, 0.0001], \n",
    "              'gamma':['scale', 'auto'],\n",
    "              'kernel': ['linear']}  \n",
    "   \n",
    "grid = GridSearchCV(SVC(), param_grid, refit = True, verbose = 3,n_jobs=-1) \n",
    "grid.fit(inputTest, classTest) \n",
    "print(grid.best_params_) \n",
    "grid_predictions = grid.predict(inputTrain) \n",
    "print(classification_report(classTrain, grid_predictions)) \n",
    "\n",
    "\n"
   ]
  },
  {
   "cell_type": "markdown",
   "metadata": {},
   "source": [
    "### Algoritmo 3"
   ]
  },
  {
   "cell_type": "code",
   "execution_count": 212,
   "metadata": {
    "collapsed": true
   },
   "outputs": [
    {
     "name": "stdout",
     "output_type": "stream",
     "text": [
      "Fitting 5 folds for each of 8 candidates, totalling 40 fits\n"
     ]
    },
    {
     "name": "stderr",
     "output_type": "stream",
     "text": [
      "c:\\Users\\unh-c\\AppData\\Local\\Programs\\Python\\Python310\\lib\\site-packages\\joblib\\externals\\loky\\process_executor.py:702: UserWarning: A worker stopped while some jobs were given to the executor. This can be caused by a too short worker timeout or by a memory leak.\n",
      "  warnings.warn(\n"
     ]
    },
    {
     "name": "stdout",
     "output_type": "stream",
     "text": [
      "{'C': 0.1, 'gamma': 'scale', 'kernel': 'linear'}\n"
     ]
    },
    {
     "ename": "ValueError",
     "evalue": "Found input variables with inconsistent numbers of samples: [934, 234]",
     "output_type": "error",
     "traceback": [
      "\u001b[1;31m---------------------------------------------------------------------------\u001b[0m",
      "\u001b[1;31mValueError\u001b[0m                                Traceback (most recent call last)",
      "\u001b[1;32mc:\\Users\\unh-c\\Documents\\Github\\FIAP\\22-4si-nac3-diego\\base-proj.ipynb Célula: 62\u001b[0m in \u001b[0;36m<cell line: 10>\u001b[1;34m()\u001b[0m\n\u001b[0;32m      <a href='vscode-notebook-cell:/c%3A/Users/unh-c/Documents/Github/FIAP/22-4si-nac3-diego/base-proj.ipynb#Y120sZmlsZQ%3D%3D?line=7'>8</a>\u001b[0m \u001b[39mprint\u001b[39m(grid\u001b[39m.\u001b[39mbest_params_) \n\u001b[0;32m      <a href='vscode-notebook-cell:/c%3A/Users/unh-c/Documents/Github/FIAP/22-4si-nac3-diego/base-proj.ipynb#Y120sZmlsZQ%3D%3D?line=8'>9</a>\u001b[0m grid_predictions \u001b[39m=\u001b[39m grid\u001b[39m.\u001b[39mpredict(input_test) \n\u001b[1;32m---> <a href='vscode-notebook-cell:/c%3A/Users/unh-c/Documents/Github/FIAP/22-4si-nac3-diego/base-proj.ipynb#Y120sZmlsZQ%3D%3D?line=9'>10</a>\u001b[0m \u001b[39mprint\u001b[39m(classification_report(class_train, grid_predictions))\n",
      "File \u001b[1;32mc:\\Users\\unh-c\\AppData\\Local\\Programs\\Python\\Python310\\lib\\site-packages\\sklearn\\metrics\\_classification.py:2132\u001b[0m, in \u001b[0;36mclassification_report\u001b[1;34m(y_true, y_pred, labels, target_names, sample_weight, digits, output_dict, zero_division)\u001b[0m\n\u001b[0;32m   2017\u001b[0m \u001b[39mdef\u001b[39;00m \u001b[39mclassification_report\u001b[39m(\n\u001b[0;32m   2018\u001b[0m     y_true,\n\u001b[0;32m   2019\u001b[0m     y_pred,\n\u001b[1;32m   (...)\u001b[0m\n\u001b[0;32m   2026\u001b[0m     zero_division\u001b[39m=\u001b[39m\u001b[39m\"\u001b[39m\u001b[39mwarn\u001b[39m\u001b[39m\"\u001b[39m,\n\u001b[0;32m   2027\u001b[0m ):\n\u001b[0;32m   2028\u001b[0m     \u001b[39m\"\"\"Build a text report showing the main classification metrics.\u001b[39;00m\n\u001b[0;32m   2029\u001b[0m \n\u001b[0;32m   2030\u001b[0m \u001b[39m    Read more in the :ref:`User Guide <classification_report>`.\u001b[39;00m\n\u001b[1;32m   (...)\u001b[0m\n\u001b[0;32m   2129\u001b[0m \u001b[39m    <BLANKLINE>\u001b[39;00m\n\u001b[0;32m   2130\u001b[0m \u001b[39m    \"\"\"\u001b[39;00m\n\u001b[1;32m-> 2132\u001b[0m     y_type, y_true, y_pred \u001b[39m=\u001b[39m _check_targets(y_true, y_pred)\n\u001b[0;32m   2134\u001b[0m     \u001b[39mif\u001b[39;00m labels \u001b[39mis\u001b[39;00m \u001b[39mNone\u001b[39;00m:\n\u001b[0;32m   2135\u001b[0m         labels \u001b[39m=\u001b[39m unique_labels(y_true, y_pred)\n",
      "File \u001b[1;32mc:\\Users\\unh-c\\AppData\\Local\\Programs\\Python\\Python310\\lib\\site-packages\\sklearn\\metrics\\_classification.py:84\u001b[0m, in \u001b[0;36m_check_targets\u001b[1;34m(y_true, y_pred)\u001b[0m\n\u001b[0;32m     57\u001b[0m \u001b[39mdef\u001b[39;00m \u001b[39m_check_targets\u001b[39m(y_true, y_pred):\n\u001b[0;32m     58\u001b[0m     \u001b[39m\"\"\"Check that y_true and y_pred belong to the same classification task.\u001b[39;00m\n\u001b[0;32m     59\u001b[0m \n\u001b[0;32m     60\u001b[0m \u001b[39m    This converts multiclass or binary types to a common shape, and raises a\u001b[39;00m\n\u001b[1;32m   (...)\u001b[0m\n\u001b[0;32m     82\u001b[0m \u001b[39m    y_pred : array or indicator matrix\u001b[39;00m\n\u001b[0;32m     83\u001b[0m \u001b[39m    \"\"\"\u001b[39;00m\n\u001b[1;32m---> 84\u001b[0m     check_consistent_length(y_true, y_pred)\n\u001b[0;32m     85\u001b[0m     type_true \u001b[39m=\u001b[39m type_of_target(y_true, input_name\u001b[39m=\u001b[39m\u001b[39m\"\u001b[39m\u001b[39my_true\u001b[39m\u001b[39m\"\u001b[39m)\n\u001b[0;32m     86\u001b[0m     type_pred \u001b[39m=\u001b[39m type_of_target(y_pred, input_name\u001b[39m=\u001b[39m\u001b[39m\"\u001b[39m\u001b[39my_pred\u001b[39m\u001b[39m\"\u001b[39m)\n",
      "File \u001b[1;32mc:\\Users\\unh-c\\AppData\\Local\\Programs\\Python\\Python310\\lib\\site-packages\\sklearn\\utils\\validation.py:387\u001b[0m, in \u001b[0;36mcheck_consistent_length\u001b[1;34m(*arrays)\u001b[0m\n\u001b[0;32m    385\u001b[0m uniques \u001b[39m=\u001b[39m np\u001b[39m.\u001b[39munique(lengths)\n\u001b[0;32m    386\u001b[0m \u001b[39mif\u001b[39;00m \u001b[39mlen\u001b[39m(uniques) \u001b[39m>\u001b[39m \u001b[39m1\u001b[39m:\n\u001b[1;32m--> 387\u001b[0m     \u001b[39mraise\u001b[39;00m \u001b[39mValueError\u001b[39;00m(\n\u001b[0;32m    388\u001b[0m         \u001b[39m\"\u001b[39m\u001b[39mFound input variables with inconsistent numbers of samples: \u001b[39m\u001b[39m%r\u001b[39;00m\u001b[39m\"\u001b[39m\n\u001b[0;32m    389\u001b[0m         \u001b[39m%\u001b[39m [\u001b[39mint\u001b[39m(l) \u001b[39mfor\u001b[39;00m l \u001b[39min\u001b[39;00m lengths]\n\u001b[0;32m    390\u001b[0m     )\n",
      "\u001b[1;31mValueError\u001b[0m: Found input variables with inconsistent numbers of samples: [934, 234]"
     ]
    }
   ],
   "source": [
    "#Algoritmo 3\n",
    "param_grid = {'C': [0.1, 1, 10, 100],  \n",
    "              'gamma': [1, 0.1, 0.01, 0.001, 0.0001], \n",
    "              'gamma':['scale', 'auto'],\n",
    "              'kernel': ['linear']}  \n",
    "   \n",
    "grid = GridSearchCV(SVC(), param_grid, refit = True, verbose = 3,n_jobs=-1) \n",
    "grid.fit(inputTrain, classTrain) \n",
    "print(grid.best_params_) \n",
    "grid_predictions = grid.predict(inputTest) \n",
    "print(classification_report(classTrain, grid_predictions)) "
   ]
  },
  {
   "cell_type": "markdown",
   "metadata": {},
   "source": [
    "Sumarize na tabela abaixo os resultados obtidos dos modelos de ML para o conjuntos de dados de treino e de testes"
   ]
  },
  {
   "cell_type": "markdown",
   "metadata": {},
   "source": [
    "**Resposta:**\n",
    "\n",
    "|                     | algoritmo1 | algoritmo2 | algoritmo3 |\n",
    "|:---------------------|:------------------:|:-----------------------------:|:-----------------:|\n",
    "| treino |      X           |      X                       |   X              |\n",
    "| teste  |      X            |      X                       |   X              |\n"
   ]
  },
  {
   "cell_type": "markdown",
   "metadata": {},
   "source": [
    "**Pergunta:** Qual dos algoritmos obteve os melhores resultados? Quais caracaterísticas deste algoritmo podem ajudar a justificar tal resultado?\n",
    "\n",
    "**Resposta:** \n",
    "O algoritmo 2 teve a melhor peformance."
   ]
  },
  {
   "cell_type": "markdown",
   "metadata": {},
   "source": [
    "## Salvando o modelo desenvolvido\n",
    "\n",
    "Configure o modelo selecionado com os parâmetros otimizados obtidos anteriormente e salve\n",
    "\n",
    "```python\n",
    "# exemplo de como salvar o modelo \"model\" no arquivo \"modelsave.pkl\"\n",
    "\n",
    "# import lib\n",
    "import pickle\n",
    "\n",
    "# salvar\n",
    "with open('modelsave.pkl', 'wb') as file:\n",
    "    pickle.dump(model, file)\n",
    "\n",
    "```"
   ]
  },
  {
   "cell_type": "code",
   "execution_count": null,
   "metadata": {
    "collapsed": true
   },
   "outputs": [],
   "source": [
    "#Seu Código aqui...\n",
    "\n"
   ]
  },
  {
   "cell_type": "markdown",
   "metadata": {},
   "source": [
    "## 6. Conclusões finais\n",
    "\n",
    "Ufa!!... Chegamos ao final deste projeto. Parabéns! De forma simplificada e completa passamos por todas as etapas de aprendizado de maquina. Outras etapas podem ser adicionadas no tratamento dos dados e desenvolvimento do modelo."
   ]
  },
  {
   "cell_type": "markdown",
   "metadata": {},
   "source": [
    "**Pergunta:**: O modelo desenvolvido obteve um resultado satisfatório? Justifique:\n",
    "\n",
    "Sim, tivemos uma margem pequena de erro apenas de 0.2, o modelo ficou com o resultado dentro das metricas estipuladas para a acuracia"
   ]
  },
  {
   "cell_type": "markdown",
   "metadata": {
    "collapsed": true
   },
   "source": [
    "**Pergunta:**: O que faria diferente para melhorar resultado obtido? Justifique:\n",
    "\n",
    "Melhoraria os scripts para obter uma margem de erro menor, para ter mais accuracia."
   ]
  },
  {
   "cell_type": "markdown",
   "metadata": {},
   "source": [
    "**Pergunta:**: As etapas de desenvolvimento se aplicam para um problema de classificação? Justifique:\n",
    "\n",
    "Sim, podemos classificar as pessoas e seus sintomas, classificar idades e seus sintomas e targets em geral.\n"
   ]
  },
  {
   "cell_type": "markdown",
   "metadata": {},
   "source": [
    "## 7. Deploy \n",
    "\n",
    "Etapa bonûs (Até 2 pontos *extra)\n",
    "\n",
    "Essa parte não é obrigatória, por esse motivo é considerada pontuação extra na nota para quem desenvolver.\n",
    "\n",
    "\n",
    "Faça o deploy do modelo de ML desenvolvido em um webserver. Como sugestão utilize Flask ou FastAPI ou Django. Procure por referências na web."
   ]
  }
 ],
 "metadata": {
  "kernelspec": {
   "display_name": "Python 3.10.6 64-bit",
   "language": "python",
   "name": "python3"
  },
  "language_info": {
   "codemirror_mode": {
    "name": "ipython",
    "version": 3
   },
   "file_extension": ".py",
   "mimetype": "text/x-python",
   "name": "python",
   "nbconvert_exporter": "python",
   "pygments_lexer": "ipython3",
   "version": "3.10.6"
  },
  "vscode": {
   "interpreter": {
    "hash": "21855f5da1bb5ede9b9b890786b21e0a342e553bf2ea71358a483b69da94ce07"
   }
  }
 },
 "nbformat": 4,
 "nbformat_minor": 2
}
